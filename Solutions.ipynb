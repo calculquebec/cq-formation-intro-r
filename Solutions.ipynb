{
 "cells": [
  {
   "cell_type": "markdown",
   "metadata": {},
   "source": [
    "# Solutions"
   ]
  },
  {
   "cell_type": "markdown",
   "metadata": {},
   "source": [
    "## Lesson 01 - Exercise 2"
   ]
  },
  {
   "cell_type": "code",
   "execution_count": null,
   "metadata": {},
   "outputs": [],
   "source": [
    "library(datasets)"
   ]
  },
  {
   "cell_type": "code",
   "execution_count": null,
   "metadata": {},
   "outputs": [],
   "source": [
    "mean(airquality$Temp[airquality$Ozone < median(airquality$Ozone, na.rm=TRUE)], na.rm=TRUE)"
   ]
  },
  {
   "cell_type": "markdown",
   "metadata": {},
   "source": [
    "## Lesson 02 - Exercise 1"
   ]
  },
  {
   "cell_type": "code",
   "execution_count": null,
   "metadata": {},
   "outputs": [],
   "source": [
    "delays07 <- read.csv('data/2007_ORD.csv')"
   ]
  },
  {
   "cell_type": "code",
   "execution_count": null,
   "metadata": {},
   "outputs": [],
   "source": [
    "top10 = head(summary(delays07$Dest), n=10)\n",
    "top10"
   ]
  },
  {
   "cell_type": "markdown",
   "metadata": {
    "collapsed": true
   },
   "source": [
    "## Lesson 02 - Exercise 2"
   ]
  },
  {
   "cell_type": "code",
   "execution_count": null,
   "metadata": {},
   "outputs": [],
   "source": [
    "barplot(as.table(top10), main=\"Most Problematic Destinations\")"
   ]
  },
  {
   "cell_type": "markdown",
   "metadata": {
    "collapsed": true
   },
   "source": [
    "## Lesson 03 - Exercise 1"
   ]
  },
  {
   "cell_type": "code",
   "execution_count": null,
   "metadata": {},
   "outputs": [],
   "source": [
    "library(\"dplyr\")"
   ]
  },
  {
   "cell_type": "code",
   "execution_count": null,
   "metadata": {},
   "outputs": [],
   "source": [
    "system.time(delays07 %>% select(CRSDepTime, DepDelay, Dest) %>% filter(CRSDepTime > 1800))\n",
    "system.time(delays07 %>% filter(CRSDepTime > 1800) %>% select(CRSDepTime, DepDelay, Dest))"
   ]
  },
  {
   "cell_type": "markdown",
   "metadata": {},
   "source": [
    "## Lesson 03 - Exercise 2"
   ]
  },
  {
   "cell_type": "code",
   "execution_count": null,
   "metadata": {},
   "outputs": [],
   "source": [
    "timeDelay07 <-    delays07 %>% select(CRSDepTime, DepDelay)\n",
    " hourFrac07 <- timeDelay07 %>% mutate(DepHour = CRSDepTime %/% 100) %>% mutate(DelayInHours = DepDelay / 60)\n",
    "head(hourFrac07, n=12)"
   ]
  },
  {
   "cell_type": "markdown",
   "metadata": {},
   "source": [
    "## Lesson 03 - Exercise 3"
   ]
  },
  {
   "cell_type": "code",
   "execution_count": null,
   "metadata": {},
   "outputs": [],
   "source": [
    " dayTimeDelay <-      delays07 %>% select(DayOfWeek, CRSDepTime, DepDelay) %>% filter(!is.na(DepDelay))\n",
    "  withPeriods <-  dayTimeDelay %>% mutate(PeriodOfDay = CRSDepTime %/% 600)\n",
    "byPeriodOfDay <-   withPeriods %>% group_by(DayOfWeek, PeriodOfDay)\n",
    "         summ <- byPeriodOfDay %>% summarize(mDelay = mean(DepDelay, na.rm=TRUE))\n",
    "summ"
   ]
  },
  {
   "cell_type": "markdown",
   "metadata": {
    "collapsed": true
   },
   "source": [
    "## Lesson 04 - Exercise 01"
   ]
  },
  {
   "cell_type": "code",
   "execution_count": null,
   "metadata": {},
   "outputs": [],
   "source": [
    "library(\"ggplot2\")"
   ]
  },
  {
   "cell_type": "code",
   "execution_count": null,
   "metadata": {},
   "outputs": [],
   "source": [
    "summ$DayOfWeek <- as.factor(summ$DayOfWeek)\n",
    "summ$PeriodOfDay <- as.factor(summ$PeriodOfDay)"
   ]
  },
  {
   "cell_type": "code",
   "execution_count": null,
   "metadata": {},
   "outputs": [],
   "source": [
    "ggplot(summ) + aes(x = DayOfWeek, y = mDelay, group = PeriodOfDay, colour = PeriodOfDay) + geom_line()"
   ]
  },
  {
   "cell_type": "code",
   "execution_count": null,
   "metadata": {},
   "outputs": [],
   "source": [
    "ggplot(summ) + aes(x = PeriodOfDay, y = mDelay, group = DayOfWeek, colour = DayOfWeek) + geom_line()"
   ]
  },
  {
   "cell_type": "markdown",
   "metadata": {
    "collapsed": true
   },
   "source": [
    "## Lesson 04 - Exercise 02"
   ]
  },
  {
   "cell_type": "code",
   "execution_count": null,
   "metadata": {},
   "outputs": [],
   "source": [
    "delays08 <- read.csv('data/2008_ORD.csv')"
   ]
  },
  {
   "cell_type": "code",
   "execution_count": null,
   "metadata": {},
   "outputs": [],
   "source": [
    "mDel07 <- delays07 %>% select(Year, Month, DepDelay) %>% group_by(Year, Month) %>% summarize(mDelay = mean(DepDelay, na.rm=TRUE))\n",
    "mDel08 <- delays08 %>% select(Year, Month, DepDelay) %>% group_by(Year, Month) %>% summarize(mDelay = mean(DepDelay, na.rm=TRUE))\n",
    "\n",
    "mDelAll <- rbind(mDel07, mDel08)\n",
    "\n",
    "mDelAll$Year <- as.factor(mDelAll$Year)\n",
    "mDelAll$Month <- as.factor(mDelAll$Month)\n",
    "\n",
    "ggplot(mDelAll) + aes(x = Month, y = mDelay, group = Year, colour = Year) + geom_line()"
   ]
  },
  {
   "cell_type": "markdown",
   "metadata": {
    "collapsed": true
   },
   "source": [
    "## Lesson 05 - Exercise 01"
   ]
  },
  {
   "cell_type": "code",
   "execution_count": null,
   "metadata": {},
   "outputs": [],
   "source": [
    "v1 <- c(1, 1, 2, 3, 5, 8, 13, 21, 34, 55)\n",
    "\n",
    "# How to implement \"ifelse(v1 %% 2 == 1, 7, 4)\" with sapply()\n",
    "v3 <- sapply(v1, function(x) {if(x %% 2 == 1) 7 else 4})\n",
    "v3"
   ]
  },
  {
   "cell_type": "markdown",
   "metadata": {},
   "source": [
    "## Lesson 05 - Exercise 02"
   ]
  },
  {
   "cell_type": "code",
   "execution_count": null,
   "metadata": {},
   "outputs": [],
   "source": [
    "library(parallel)\n",
    "cl <- makeCluster(2)"
   ]
  },
  {
   "cell_type": "code",
   "execution_count": null,
   "metadata": {},
   "outputs": [],
   "source": [
    "set.seed(1)\n",
    "size <- 512\n",
    "x <- runif(size*size)\n",
    "x <- matrix(x, nrow=size, ncol=size)\n",
    "\n",
    "print(\"Parallel time:\")\n",
    "print(system.time(y <- parLapply(cl, x, function(x) sd(x)/mean(x))))"
   ]
  },
  {
   "cell_type": "markdown",
   "metadata": {
    "collapsed": true
   },
   "source": [
    "## Lesson 07 - Exercise 01"
   ]
  },
  {
   "cell_type": "code",
   "execution_count": null,
   "metadata": {},
   "outputs": [],
   "source": [
    "myModel <- lm(Ozone ~ Temp * Wind, airquality)\n",
    "new_data <- data.frame(Temp=80, Wind=15)\n",
    "\n",
    "predict(myModel, new_data, se.fit=TRUE)"
   ]
  },
  {
   "cell_type": "code",
   "execution_count": null,
   "metadata": {},
   "outputs": [],
   "source": []
  }
 ],
 "metadata": {
  "kernelspec": {
   "display_name": "R 3.2.4",
   "language": "R",
   "name": "r_3.2.4"
  },
  "language_info": {
   "codemirror_mode": "r",
   "file_extension": ".r",
   "mimetype": "text/x-r-source",
   "name": "R",
   "pygments_lexer": "r",
   "version": "3.2.4"
  }
 },
 "nbformat": 4,
 "nbformat_minor": 1
}
