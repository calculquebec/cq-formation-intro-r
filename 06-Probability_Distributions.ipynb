{
 "cells": [
  {
   "cell_type": "markdown",
   "metadata": {},
   "source": [
    "# Lesson 06 - Probability, Distributions and Pseudorandom Numbers\n",
    "|                                               |  Uniform  | Gaussian  | T-dist.|  Binomial  | Chi-squared |\n",
    "|-----------------------------------------------|-----------|-----------|--------|------------|-------------|\n",
    "|Height of the probability density function     | `dunif()` | `dnorm()` | `dt()` | `dbinom()` | `dchisq()`  |\n",
    "|Cumulative density function                    | `punif()` | `pnorm()` | `pt()` | `pbinom()` | `pchisq()`  |\n",
    "|Inverse cumulative density function (quantiles)| `qunif()` | `qnorm()` | `qt()` | `qbinom()` | `qchisq()`  |\n",
    "|Generates pseudorandom numbers                 | `runif()` | `rnorm()` | `rt()` | `rbinom()` | `rchisq()`  |"
   ]
  },
  {
   "cell_type": "code",
   "execution_count": null,
   "metadata": {},
   "outputs": [],
   "source": [
    "# For x from 1 to 30, get Chi-squared distribution height, display as line\n",
    "plot(1:30, dchisq(1:30, df=10), type=\"l\")\n",
    "\n",
    "# Prepare to combine second plot to the first plot\n",
    "par(new=T)\n",
    "\n",
    "# Generate pseudorandom numbers and create an histogram\n",
    "hist(rchisq(2000, df=10), axes=FALSE, xlab=\"\", ylab=\"\")"
   ]
  },
  {
   "cell_type": "markdown",
   "metadata": {},
   "source": [
    "## Confidence Intervals\n",
    "* **Problem**: from a Gaussian distribution with mean=0 and standard deviation=1, in what symmetric range of values do we get 80% of the population?"
   ]
  },
  {
   "cell_type": "code",
   "execution_count": null,
   "metadata": {},
   "outputs": [],
   "source": [
    "seqX <- seq(-5, 5, length.out=65)\n",
    "\n",
    "plot(seqX, dnorm(seqX, mean=0, sd=1), type=\"l\")"
   ]
  },
  {
   "cell_type": "markdown",
   "metadata": {},
   "source": [
    "* The `qnorm()` function returns X such that the given fraction of the population should be below X\n",
    "  * \"Below X\" means `]-infinity, X]`\n",
    "  * But we want a symmetric range [-X, X] that covers 80% of the population\n",
    "  * On each side of the range, there should be 10% of the population:\n",
    "    * (100% - 80%) / 2 = 10%\n",
    "  * So, X will be found with fraction:\n",
    "    * 80% + 10% = 90%"
   ]
  },
  {
   "cell_type": "code",
   "execution_count": null,
   "metadata": {},
   "outputs": [],
   "source": [
    "fractionOfPop <- 0.8\n",
    "thresholdMax <- fractionOfPop + (1 - fractionOfPop) / 2\n",
    "thresholdMax"
   ]
  },
  {
   "cell_type": "code",
   "execution_count": null,
   "metadata": {},
   "outputs": [],
   "source": [
    "x <- qnorm(thresholdMax, mean=0, sd=1)\n",
    "x"
   ]
  },
  {
   "cell_type": "markdown",
   "metadata": {},
   "source": [
    "* The `pnorm()` function returns the probability of a value less than X: P(X)\n",
    "  * Proof of our result: P(X) - P(-X)"
   ]
  },
  {
   "cell_type": "code",
   "execution_count": null,
   "metadata": {},
   "outputs": [],
   "source": [
    "pnorm(x, mean=0, sd=1) - pnorm(-x, mean=0, sd=1)"
   ]
  },
  {
   "cell_type": "code",
   "execution_count": null,
   "metadata": {},
   "outputs": [],
   "source": []
  }
 ],
 "metadata": {
  "kernelspec": {
   "display_name": "R 3.2.4",
   "language": "R",
   "name": "r_3.2.4"
  },
  "language_info": {
   "codemirror_mode": "r",
   "file_extension": ".r",
   "mimetype": "text/x-r-source",
   "name": "R",
   "pygments_lexer": "r",
   "version": "3.2.4"
  }
 },
 "nbformat": 4,
 "nbformat_minor": 1
}
