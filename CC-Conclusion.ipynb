{
 "cells": [
  {
   "cell_type": "markdown",
   "metadata": {},
   "source": [
    "# Conclusion\n",
    "What we have **covered**, and what we have *not covered*:\n",
    "* **R syntax and basic data types**\n",
    "  * *Matrix-like indexing for data frames*: `airquality[,c(\"Wind\", \"Temp\")]`\n",
    "  * *Official documentation is available on the R-project web-site*:\n",
    "    * https://cran.r-project.org/manuals.html\n",
    "    * https://www.r-project.org/other-docs.html\n",
    "* **Reading, manipulating and plotting data**\n",
    "  * *Reading with* `read.table()`, `scan()`\n",
    "  * *RMySQL, HDF5, NETCDF, BMP, JPEG, PNG*\n",
    "  * *Exporting plots to files, especially for batch jobs*\n",
    "* **Programming and parallel programming in R**\n",
    "  * *Lexical Closure: data structure that stores a function along with its environment*\n",
    "  * *Super-assignment*\n",
    "  * *Rmpi*\n",
    "  * *Try/Catch* structures\n",
    "* **Probability, distributions and pseudorandom numbers**\n",
    "* **Linear regressions and predictions**\n",
    "  * *Statistical hypothesis testing*"
   ]
  },
  {
   "cell_type": "markdown",
   "metadata": {
    "collapsed": true
   },
   "source": [
    "For additional questions: **guillimin@calculquebec.ca**"
   ]
  },
  {
   "cell_type": "code",
   "execution_count": null,
   "metadata": {},
   "outputs": [],
   "source": []
  }
 ],
 "metadata": {
  "kernelspec": {
   "display_name": "R 3.2.4",
   "language": "R",
   "name": "r_3.2.4"
  },
  "language_info": {
   "codemirror_mode": "r",
   "file_extension": ".r",
   "mimetype": "text/x-r-source",
   "name": "R",
   "pygments_lexer": "r",
   "version": "3.2.4"
  }
 },
 "nbformat": 4,
 "nbformat_minor": 1
}
