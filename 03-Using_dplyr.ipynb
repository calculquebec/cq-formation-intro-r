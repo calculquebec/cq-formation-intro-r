{
 "cells": [
  {
   "cell_type": "markdown",
   "metadata": {},
   "source": [
    "# Lesson 03 - Analyzing Data with `dplyr`"
   ]
  },
  {
   "cell_type": "markdown",
   "metadata": {},
   "source": [
    "## What is `dplyr`?\n",
    "* `dplyr` is an R package that contains additional functions\n",
    "  * It emulates a relational database interface\n",
    "  * It works natively with data frames\n",
    "  * It can also work with external databases\n",
    "* Most common functions:\n",
    "  * `select()`\n",
    "  * `filter()`\n",
    "  * `mutate()`\n",
    "  * `group_by()`\n",
    "  * `summarize()    #` Is not the same as `summary()`\n",
    "* Note: when loading the `dplyr` library, some pre-loaded functions will be replaced with `dplyr` functions"
   ]
  },
  {
   "cell_type": "code",
   "execution_count": null,
   "metadata": {},
   "outputs": [],
   "source": [
    "# install.packages(\"dplyr\")\n",
    "library(\"dplyr\")"
   ]
  },
  {
   "cell_type": "markdown",
   "metadata": {
    "collapsed": true
   },
   "source": [
    "## Selecting Columns and Filtering Rows\n",
    "* `select(data_frame, column_name_1 [, column_name_2, ...])`"
   ]
  },
  {
   "cell_type": "code",
   "execution_count": null,
   "metadata": {},
   "outputs": [],
   "source": [
    "library(datasets)\n",
    "head(select(airquality, Ozone, Temp, Wind))"
   ]
  },
  {
   "cell_type": "markdown",
   "metadata": {},
   "source": [
    "* `filter(data_frame, condition1 [, condition2, ...])`\n",
    "  * Filtering out `NA` values could be done with `!is.na(column_name)`, where \"`!`\" negates the output of `is.na()`."
   ]
  },
  {
   "cell_type": "code",
   "execution_count": null,
   "metadata": {},
   "outputs": [],
   "source": [
    "head(airquality$Ozone, n=16)\n",
    "head(filter(airquality, !is.na(Ozone), Ozone > 20))"
   ]
  },
  {
   "cell_type": "markdown",
   "metadata": {},
   "source": [
    "## Using Pipes\n",
    "* Allows to elegantly `select()` and `filter()` data in the same command line\n",
    "* Like in Bash, R pipes take the output of one function and send it to the next\n",
    "  * The last function could be \"`head`\"\n",
    "* Pipes are written: `%>%`\n",
    "  * Available via the \"`magrittr`\" package loaded with `dplyr`"
   ]
  },
  {
   "cell_type": "code",
   "execution_count": null,
   "metadata": {},
   "outputs": [],
   "source": [
    "airquality %>% filter(Ozone > 20) %>% select(Ozone, Temp, Wind) %>% head"
   ]
  },
  {
   "cell_type": "markdown",
   "metadata": {},
   "source": [
    "* Assignment also works"
   ]
  },
  {
   "cell_type": "code",
   "execution_count": null,
   "metadata": {},
   "outputs": [],
   "source": [
    "subAQ <- airquality %>% select(Ozone, Temp, Wind) %>% filter(Ozone > 20)\n",
    "head(subAQ)"
   ]
  },
  {
   "cell_type": "markdown",
   "metadata": {},
   "source": [
    "## Exercise 1 - Selecting a Subset of Data\n",
    "* From 2007_ORD.csv, select {CRSDepTime, DepDelay, Dest} where CRSDepTime is after 6pm (\"1800\")\n",
    "* Use `system.time()` to benchmark \"select, then filter\" and \"filter, then select\""
   ]
  },
  {
   "cell_type": "code",
   "execution_count": null,
   "metadata": {},
   "outputs": [],
   "source": [
    "delays07 <- read.csv('data/2007_ORD.csv')"
   ]
  },
  {
   "cell_type": "code",
   "execution_count": null,
   "metadata": {},
   "outputs": [],
   "source": []
  },
  {
   "cell_type": "markdown",
   "metadata": {},
   "source": [
    "## Mutating Data\n",
    "* The `mutate()` function allows to create new columns from values of other columns"
   ]
  },
  {
   "cell_type": "code",
   "execution_count": null,
   "metadata": {},
   "outputs": [],
   "source": [
    "airquality %>% mutate(Temp_C = (Temp - 32) * 5 / 9) %>% head"
   ]
  },
  {
   "cell_type": "markdown",
   "metadata": {},
   "source": [
    "## Exercise 2 - Convert Departure time\n",
    "* From 2007_ORD.csv:\n",
    "  * Select CRSDepTime and DepDelay\n",
    "  * Convert CRSDepTime to DepHour : use integer division \"`%/% 100`\"\n",
    "  * Convert DepDelay to DelayInHours : division \"`/ 60`\"\n",
    "  * Keep only first 12 lines"
   ]
  },
  {
   "cell_type": "code",
   "execution_count": null,
   "metadata": {},
   "outputs": [],
   "source": []
  },
  {
   "cell_type": "markdown",
   "metadata": {},
   "source": [
    "## Grouping Entries and the `summarize()` function\n",
    "* Some data analysys should be done by group of entries\n",
    "  * Groups could be made of multiple columns\n",
    "  * `group_by(column_name_1 [, column_name_2, ...])`\n",
    "* A summary could be generated for each group\n",
    "  * Multiple summaries could be created\n",
    "  * `summarize(new_col_1 = fct(col_1) [, new_col_2 = fct(col_2), ...])`"
   ]
  },
  {
   "cell_type": "code",
   "execution_count": null,
   "metadata": {},
   "outputs": [],
   "source": [
    "byMonth <- airquality %>% group_by(Month)\n",
    "summ <- byMonth %>% summarize(mSolar = mean(Solar.R, na.rm=TRUE), mTemp = mean(Temp, na.rm=TRUE))\n",
    "head(summ)"
   ]
  },
  {
   "cell_type": "markdown",
   "metadata": {},
   "source": [
    "## Exercise 3 - Average Delay by Day of Week\n",
    "* From 2007_ORD.csv:\n",
    "  * Select DayOfWeek, CRSDepTime, DepDelay and filter out NA DepDelay\n",
    "  * Mutate CRSDepTime to PeriodOfDay : `%/% 600`\n",
    "  * Group by DayOfWeek and PeriodOfDay\n",
    "  * Summarize (or compute for each group) the mean of DepDelay in a new column `mDelay`"
   ]
  },
  {
   "cell_type": "code",
   "execution_count": null,
   "metadata": {},
   "outputs": [],
   "source": []
  }
 ],
 "metadata": {
  "kernelspec": {
   "display_name": "R 3.2.4",
   "language": "R",
   "name": "r_3.2.4"
  },
  "language_info": {
   "codemirror_mode": "r",
   "file_extension": ".r",
   "mimetype": "text/x-r-source",
   "name": "R",
   "pygments_lexer": "r",
   "version": "3.2.4"
  }
 },
 "nbformat": 4,
 "nbformat_minor": 1
}
