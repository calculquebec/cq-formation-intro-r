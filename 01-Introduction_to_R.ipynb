{
 "cells": [
  {
   "cell_type": "markdown",
   "metadata": {},
   "source": [
    "# Lesson 01 - R syntax and basic data types"
   ]
  },
  {
   "cell_type": "markdown",
   "metadata": {},
   "source": [
    "## Introduction to R\n",
    "* R is a scripting language designed for interactive statistical programming and plotting.\n",
    "* Like Bash, Perl and Python, the code is first interpreted in a Just-in-Time compilation\n",
    "  * Note: R tools are free software - You may use them for any purpose, modify and improve them if needed, and share your improvements with the whole community.\n",
    "* In R, comments start with a '#' character\n",
    "  * `[Some code if any] # Comment`\n",
    "* **In a Jupyter Terminal, run**:\n",
    "  * `cd intro-R`\n",
    "  * `cat script.R `\n",
    "  * `Rscript script.R`"
   ]
  },
  {
   "cell_type": "markdown",
   "metadata": {},
   "source": [
    "## Exercise 1: Invitation to R from a Jupyter (IPython) Notebook\n",
    "* Let's skip “hello world” and start analyzing data\n",
    "* In cells below, we will load a data table, get a summary of each column, and make scatterplots of every pair of variables"
   ]
  },
  {
   "cell_type": "code",
   "execution_count": null,
   "metadata": {},
   "outputs": [],
   "source": [
    "library(datasets)"
   ]
  },
  {
   "cell_type": "code",
   "execution_count": null,
   "metadata": {},
   "outputs": [],
   "source": [
    "?airquality    # The \"?\" operator provides documentation"
   ]
  },
  {
   "cell_type": "code",
   "execution_count": null,
   "metadata": {},
   "outputs": [],
   "source": [
    "summary(airquality)"
   ]
  },
  {
   "cell_type": "code",
   "execution_count": null,
   "metadata": {},
   "outputs": [],
   "source": [
    "pairs(airquality)"
   ]
  },
  {
   "cell_type": "markdown",
   "metadata": {
    "collapsed": true
   },
   "source": [
    "## The R Assignment Operator\n",
    "* In R, the assignment operator is \"`<-`\"\n",
    "  * It looks like a left-pointing arrow\n",
    "    * `a <- 1`\n",
    "* In most languages, assignment is done using the '=' symbol\n",
    "  * R supports both, but they are different operators\n",
    "    * `a = 1  #` Mostly used to set specific function arguments or data frame column names\n",
    "    * `a <- 1 #` Has precedence over '='\n",
    "  * Google's R style guide forbids '=' for assignment\n",
    "    * https://google.github.io/styleguide/Rguide.xml"
   ]
  },
  {
   "cell_type": "markdown",
   "metadata": {},
   "source": [
    "### Assignment in chain"
   ]
  },
  {
   "cell_type": "code",
   "execution_count": null,
   "metadata": {},
   "outputs": [],
   "source": [
    "a = 1"
   ]
  },
  {
   "cell_type": "code",
   "execution_count": null,
   "metadata": {},
   "outputs": [],
   "source": [
    "a"
   ]
  },
  {
   "cell_type": "code",
   "execution_count": null,
   "metadata": {},
   "outputs": [],
   "source": [
    "b <- 2\n",
    "b\n",
    "\n",
    "(b <- 3)"
   ]
  },
  {
   "cell_type": "code",
   "execution_count": null,
   "metadata": {},
   "outputs": [],
   "source": [
    "a\n",
    "b\n",
    "b <- a <- b + a\n",
    "a\n",
    "b"
   ]
  },
  {
   "cell_type": "code",
   "execution_count": null,
   "metadata": {},
   "outputs": [],
   "source": [
    "(a <- 1)\n",
    "(b <- 3)\n",
    "b <- (a <- b) + a\n",
    "a\n",
    "b"
   ]
  },
  {
   "cell_type": "markdown",
   "metadata": {},
   "source": [
    "### Mixed assignment (NOT recommended!)"
   ]
  },
  {
   "cell_type": "code",
   "execution_count": null,
   "metadata": {},
   "outputs": [],
   "source": [
    "b = a <- 1\n",
    "a\n",
    "b"
   ]
  },
  {
   "cell_type": "code",
   "execution_count": null,
   "metadata": {},
   "outputs": [],
   "source": [
    "b <- a = 2\n",
    "a\n",
    "b"
   ]
  },
  {
   "cell_type": "code",
   "execution_count": null,
   "metadata": {},
   "outputs": [],
   "source": [
    "b <- (a = 3)\n",
    "a\n",
    "b"
   ]
  },
  {
   "cell_type": "markdown",
   "metadata": {},
   "source": [
    "### After all, the arrow notation is more intuitive in R"
   ]
  },
  {
   "cell_type": "code",
   "execution_count": null,
   "metadata": {},
   "outputs": [],
   "source": [
    "print(a <- 1) # Assign 1 to \"a\", then print \"a\"\n",
    "print(a = 2)  # Call print() with argument \"a\" set to 2"
   ]
  },
  {
   "cell_type": "code",
   "execution_count": null,
   "metadata": {},
   "outputs": [],
   "source": [
    "?print"
   ]
  },
  {
   "cell_type": "code",
   "execution_count": null,
   "metadata": {},
   "outputs": [],
   "source": [
    "print((a = 3))  # After all, the <- operator makes the code cleaner\n",
    "\n",
    "a <- 4          # Even better: not doing assignment in a function call\n",
    "print(a)        # This is more secure in case you comment the print() function call"
   ]
  },
  {
   "cell_type": "markdown",
   "metadata": {},
   "source": [
    "### Be careful with your coding style and spacing\n",
    "Some editors support shortcuts to automatically insert \"<-\".\n",
    "* https://support.rstudio.com/hc/en-us/articles/200711853-Keyboard-Shortcuts"
   ]
  },
  {
   "cell_type": "code",
   "execution_count": null,
   "metadata": {},
   "outputs": [],
   "source": [
    "print(a < -1)\n",
    "print(a <-2)\n",
    "print(a<-3)\n",
    "print(a<--4)"
   ]
  },
  {
   "cell_type": "markdown",
   "metadata": {
    "collapsed": true
   },
   "source": [
    "## Data types\n",
    "### Atomic data types (characters, numeric, complex, logical)"
   ]
  },
  {
   "cell_type": "markdown",
   "metadata": {},
   "source": [
    "**Characters and strings**\n",
    "* Both single and double quote marks could be used at your convenience"
   ]
  },
  {
   "cell_type": "code",
   "execution_count": null,
   "metadata": {},
   "outputs": [],
   "source": [
    "'This is a \"string\".'\n",
    "\"John's car crashed.\"\n",
    "cat(\"Agent Smith's glasses are so \\\"cool\\\"!\")"
   ]
  },
  {
   "cell_type": "markdown",
   "metadata": {},
   "source": [
    "**Numeric and integer numbers**\n",
    "* The integer division must be done with the `%/%` operator"
   ]
  },
  {
   "cell_type": "code",
   "execution_count": null,
   "metadata": {},
   "outputs": [],
   "source": [
    "22 / 7\n",
    "22 %/% 7"
   ]
  },
  {
   "cell_type": "markdown",
   "metadata": {},
   "source": [
    "**Complex numbers**\n",
    "* You may use the `x+yi` notation when writing constants, or use the `complex()` function for computed components\n",
    "* To get the real component, use `Re()`\n",
    "* To get the imaginary component, use `Im()`"
   ]
  },
  {
   "cell_type": "code",
   "execution_count": null,
   "metadata": {},
   "outputs": [],
   "source": [
    "k <- (0+1i) * complex(imaginary = 1)    # i * i = -1+0i\n",
    "Re(k)\n",
    "Im(k)\n",
    "\n",
    "(113/355)**Re(k)\n",
    "(113/355)^Re(k)"
   ]
  },
  {
   "cell_type": "markdown",
   "metadata": {},
   "source": [
    "**Logical values**"
   ]
  },
  {
   "cell_type": "code",
   "execution_count": null,
   "metadata": {},
   "outputs": [],
   "source": [
    "(22 > 7) ^ (113 > 355)\n",
    "xor(22 > 7, 113 > 355)"
   ]
  },
  {
   "cell_type": "code",
   "execution_count": null,
   "metadata": {},
   "outputs": [],
   "source": [
    "(22 > 7) && (113 > 355)\n",
    "(22 > 7) || (113 > 355)"
   ]
  },
  {
   "cell_type": "code",
   "execution_count": null,
   "metadata": {},
   "outputs": [],
   "source": [
    "! TRUE||TRUE"
   ]
  },
  {
   "cell_type": "markdown",
   "metadata": {},
   "source": [
    "### Vectors\n",
    "* Vector - an ordered sequence of data elements of a single type\n",
    "* Created with the `c()` function"
   ]
  },
  {
   "cell_type": "code",
   "execution_count": null,
   "metadata": {},
   "outputs": [],
   "source": [
    "v1 <- c(1,2,3,4,5)\n",
    "v1"
   ]
  },
  {
   "cell_type": "code",
   "execution_count": null,
   "metadata": {},
   "outputs": [],
   "source": [
    "v2 <- c(\"Peter's\", 'apple', '\"orange\"')\n",
    "v2"
   ]
  },
  {
   "cell_type": "markdown",
   "metadata": {},
   "source": [
    "* Single `sprintf()` for all values"
   ]
  },
  {
   "cell_type": "code",
   "execution_count": null,
   "metadata": {},
   "outputs": [],
   "source": [
    "v3 <- c(NA, 2, 3, 5, 7)    # Undefined values are replaced with the \"NA\" keyword\n",
    "sprintf(\"%.12f\", v3)       # Format of a single float with 12 digits after \".\""
   ]
  },
  {
   "cell_type": "markdown",
   "metadata": {},
   "source": [
    "* Operators `+, -, *, /, <, >, <=. >=, ==, !=, sqrt(), log(), exp()` are element-wise\n",
    "  * The dot-product, or matrix multiplication, is done with the `%*%` operator"
   ]
  },
  {
   "cell_type": "code",
   "execution_count": null,
   "metadata": {},
   "outputs": [],
   "source": [
    "(v4 <- log(v3) / sqrt(v3))    # Element-wise division\n",
    "\n",
    "(vv1 <- v1 %*% v1)            # Dot-product as a matrix multiplication\n",
    "sprintf(\"Proof: %d\", 1*1 + 2*2 + 3*3 + 4*4 + 5*5)"
   ]
  },
  {
   "cell_type": "markdown",
   "metadata": {},
   "source": [
    "* Built-in summary functions: `sort(), min(), max(), mean(), median(), quantile(), sum(), var()`\n",
    "  * Note: for `NA` values, it is possible to remove them with \"`na.rm=TRUE`\" as the second argument"
   ]
  },
  {
   "cell_type": "code",
   "execution_count": null,
   "metadata": {},
   "outputs": [],
   "source": [
    "var(v4, na.rm=TRUE)"
   ]
  },
  {
   "cell_type": "markdown",
   "metadata": {},
   "source": [
    "### Lists\n",
    "* List - an ordered sequence of data elements of any type, except complex numbers\n",
    "* We can set a name to each element in a list"
   ]
  },
  {
   "cell_type": "code",
   "execution_count": null,
   "metadata": {},
   "outputs": [],
   "source": [
    "l1 <- list('Table', 2, 4+3i, TRUE, c(3,4))\n",
    "l1"
   ]
  },
  {
   "cell_type": "code",
   "execution_count": null,
   "metadata": {},
   "outputs": [],
   "source": [
    "l2 <- list(name=\"Alice\", org=\"McGill U.\", 98765.43)\n",
    "l2"
   ]
  },
  {
   "cell_type": "markdown",
   "metadata": {},
   "source": [
    "### Indexing and Sequences in R\n",
    "* Lists and arrays are indexed using square brackets\n",
    "  * The first index is 1\n",
    "  * Indexes could be a range (`x:y`), a logical mask (as a vector of TRUE/FALSE) or a vector of integers"
   ]
  },
  {
   "cell_type": "code",
   "execution_count": null,
   "metadata": {},
   "outputs": [],
   "source": [
    "c(2,4,8)[1]    # Create a vector with 3 integers, select the first"
   ]
  },
  {
   "cell_type": "code",
   "execution_count": null,
   "metadata": {},
   "outputs": [],
   "source": [
    "v1\n",
    "v1 >= 3        # TRUE if value is greater than or equal to 3\n",
    "v1[v1 >= 3]    # Locical mask: select all values greater than or equal to 3"
   ]
  },
  {
   "cell_type": "code",
   "execution_count": null,
   "metadata": {},
   "outputs": [],
   "source": [
    "v2\n",
    "v2[c(1,3)]     # A vector of indexes"
   ]
  },
  {
   "cell_type": "markdown",
   "metadata": {},
   "source": [
    "* From lists:\n",
    "  * The single bracket `[]` notation will return a sublist\n",
    "  * The double bracket `[[]]` notation will return a single value\n",
    "* Use the dollar sign `$` notation to select named members"
   ]
  },
  {
   "cell_type": "code",
   "execution_count": null,
   "metadata": {},
   "outputs": [],
   "source": [
    "l1\n",
    "l1[4]\n",
    "l1[[4]]"
   ]
  },
  {
   "cell_type": "code",
   "execution_count": null,
   "metadata": {},
   "outputs": [],
   "source": [
    "l2\n",
    "l2[1:2]\n",
    "l2$org"
   ]
  },
  {
   "cell_type": "markdown",
   "metadata": {},
   "source": [
    "* Sequence of integers: `seq(start, stop, by=step)`, where values are in [start, stop]\n",
    "* Sequence of integers: `seq(start, by=step, length.out=N)`\n",
    "* Range made of N values: `seq(start, stop, length.out=N)`, where values are in [start, stop]"
   ]
  },
  {
   "cell_type": "code",
   "execution_count": null,
   "metadata": {},
   "outputs": [],
   "source": [
    "seq(2, 5.9, by=2)\n",
    "seq(1, 5, by=2)"
   ]
  },
  {
   "cell_type": "code",
   "execution_count": null,
   "metadata": {},
   "outputs": [],
   "source": [
    "v1\n",
    "v1[seq(5, 1, by=-2)]"
   ]
  },
  {
   "cell_type": "code",
   "execution_count": null,
   "metadata": {},
   "outputs": [],
   "source": [
    "seq(3, by=2, length.out=20)\n",
    "seq(0, 10, length.out=21)"
   ]
  },
  {
   "cell_type": "markdown",
   "metadata": {},
   "source": [
    "### Matrices and Arrays\n",
    "* Vector: a 1-dimensional array\n",
    "* Matrix: a 2-dimensional array\n",
    "  * Use the `t()` function to transpose a matrix"
   ]
  },
  {
   "cell_type": "code",
   "execution_count": null,
   "metadata": {},
   "outputs": [],
   "source": [
    "m1 <- matrix(c(2,4,3,1,5,7), nrow=3, ncol=2)\n",
    "m1"
   ]
  },
  {
   "cell_type": "code",
   "execution_count": null,
   "metadata": {},
   "outputs": [],
   "source": [
    "m1 * m1\n",
    "m1 %*% t(m1)"
   ]
  },
  {
   "cell_type": "markdown",
   "metadata": {},
   "source": [
    "* Array: N-dimensional collection of data entries of a single type"
   ]
  },
  {
   "cell_type": "code",
   "execution_count": null,
   "metadata": {},
   "outputs": [],
   "source": [
    "a1 <- array(1:20, dim=c(2,2,5))\n",
    "a1[1,,]\n",
    "a1[,2,]\n",
    "a1[,,1]"
   ]
  },
  {
   "cell_type": "markdown",
   "metadata": {},
   "source": [
    "### Data Frames\n",
    "* Data frame - Collection of vectors of different types\n",
    "  * Example: the airquality data was imported as a data frame"
   ]
  },
  {
   "cell_type": "code",
   "execution_count": null,
   "metadata": {},
   "outputs": [],
   "source": [
    "myFrame <- data.frame(employe=c(\"Alice\", \"Bob\", \"Carol\"), org=c(\"McGill U.\", \"U. de Mtl\", \"U. Laval\"))\n",
    "myFrame"
   ]
  },
  {
   "cell_type": "markdown",
   "metadata": {},
   "source": [
    "* Columns name: use `names()` or `colnames()`\n",
    "* Number of rows: use `nrow()`. See also `dim()`, `ncol()`"
   ]
  },
  {
   "cell_type": "code",
   "execution_count": null,
   "metadata": {},
   "outputs": [],
   "source": [
    "names(myFrame)\n",
    "colnames(myFrame)\n",
    "sprintf(\"%d rows\", nrow(myFrame))"
   ]
  },
  {
   "cell_type": "markdown",
   "metadata": {},
   "source": [
    "* Matrix indexing: use single bracket `[i,j]` notation, where `i` and `j` are indexes. An empty index means \"all\"\n",
    "* Column indexing: use the dollar sign (`$`) notation to select a named column"
   ]
  },
  {
   "cell_type": "code",
   "execution_count": null,
   "metadata": {},
   "outputs": [],
   "source": [
    "myFrame[2,]            # Entire row 2\n",
    "myFrame$org[c(1,3)]    # Rows 1 and 3"
   ]
  },
  {
   "cell_type": "markdown",
   "metadata": {},
   "source": [
    "* Use `head()` to get the first 6 rows. Set `n = N` to select the first `N` rows\n",
    "* Use `tail()` to get the last 6 rows. Set `n = N` to select the last `N` rows"
   ]
  },
  {
   "cell_type": "code",
   "execution_count": null,
   "metadata": {},
   "outputs": [],
   "source": [
    "head(myFrame, n=2)\n",
    "tail(myFrame, n=2)"
   ]
  },
  {
   "cell_type": "markdown",
   "metadata": {},
   "source": [
    "* Appending Data\n",
    "  * Use `rbind()` to append rows to a matrix or data frame\n",
    "  * Use `cbind()` to append columns to a matrix or data frame"
   ]
  },
  {
   "cell_type": "code",
   "execution_count": null,
   "metadata": {},
   "outputs": [],
   "source": [
    "df1 <- data.frame(one=c(10,11,12), two=c(\"w\",\"w\",\"x\"))\n",
    "df2 <- data.frame(one=c(20,21,22), two=c(\"y\",\"y\",\"z\"))"
   ]
  },
  {
   "cell_type": "code",
   "execution_count": null,
   "metadata": {
    "scrolled": true
   },
   "outputs": [],
   "source": [
    "df12v <- rbind(df1, df2)\n",
    "df12v\n",
    "df12v$one"
   ]
  },
  {
   "cell_type": "code",
   "execution_count": null,
   "metadata": {},
   "outputs": [],
   "source": [
    "df12h <- cbind(df1, df2)\n",
    "df12h\n",
    "df12h$one"
   ]
  },
  {
   "cell_type": "markdown",
   "metadata": {},
   "source": [
    "## Exercise 2 - Analyzing Data from a Data Frame\n",
    "* From the airquality data, find the `mean()` Temp when the Ozone was below the `median()`\n",
    "* Challenge: process the data in one line"
   ]
  },
  {
   "cell_type": "code",
   "execution_count": null,
   "metadata": {},
   "outputs": [],
   "source": []
  }
 ],
 "metadata": {
  "kernelspec": {
   "display_name": "R 3.2.4",
   "language": "R",
   "name": "r_3.2.4"
  },
  "language_info": {
   "codemirror_mode": "r",
   "file_extension": ".r",
   "mimetype": "text/x-r-source",
   "name": "R",
   "pygments_lexer": "r",
   "version": "3.2.4"
  }
 },
 "nbformat": 4,
 "nbformat_minor": 1
}
