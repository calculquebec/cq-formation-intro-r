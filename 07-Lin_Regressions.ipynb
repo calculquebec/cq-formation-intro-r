{
 "cells": [
  {
   "cell_type": "markdown",
   "metadata": {},
   "source": [
    "# Lesson 07 - Linear Regressions and Predictions\n",
    "* We want to model the relationship between a dependant (target) variable, `y`, and one or more explanatory variables, `x`\n",
    "* The `lm()` function is used to fit linear models in R\n",
    "* Use \"Wilkinson notation\" to define statistical models in R\n",
    "  * [response variable] ~ [predictor variables]"
   ]
  },
  {
   "cell_type": "markdown",
   "metadata": {},
   "source": [
    "## Simple Linear Regression\n",
    "* An example of the form:\n",
    "  * **y ~ x**, where `y(i) = c0 + c1 * x(i) + e(i)`, and `e(i)` is the error on the prediction"
   ]
  },
  {
   "cell_type": "code",
   "execution_count": null,
   "metadata": {},
   "outputs": [],
   "source": [
    "x <- 0:100\n",
    "e <- rnorm(length(x), 0, 10)\n",
    "y <- 0.5 + 2 * x + e"
   ]
  },
  {
   "cell_type": "code",
   "execution_count": null,
   "metadata": {},
   "outputs": [],
   "source": [
    "model <- lm(y ~ x)\n",
    "summary(model)"
   ]
  },
  {
   "cell_type": "code",
   "execution_count": null,
   "metadata": {},
   "outputs": [],
   "source": [
    "plot(x, y)\n",
    "abline(model)"
   ]
  },
  {
   "cell_type": "markdown",
   "metadata": {},
   "source": [
    "## Other Models\n",
    "|       Wilkinson notation       |                         Equation                          |\n",
    "|--------------------------------|-----------------------------------------------------------|\n",
    "|**y ~ x**                       |`y(i) = c0 + c1 * x(i) + e(i)`                             |\n",
    "|**y ~ x^3**                     |`y(i) = c0 + c1 * x(i)^3 + e(i)`                           |\n",
    "|**y ~ x + z**, y ~ x * z - x : z|`y(i) = c0 + c1 * x(i) + c2 * z(i) + e(i)`                 |\n",
    "|**y ~ x * z**                   |`y(i) = c0 + c1 * x(i) + c2 * z(i) + c3 * x(i)*z(i) + e(i)`|\n",
    "|**y ~ x : z**, y ~ x * z - x - z|`y(i) = c0 +                         c3 * x(i)*z(i) + e(i)`|\n",
    "|**y ~ .**                       |Include all variables                                      |\n",
    "### Quadratic Models\n",
    "These formulae refer to the same model:\n",
    "* **y ~ (w + x + z)^2**\n",
    "* **y ~ (w + x + z) + (w : x + w : z + x : z)**\n",
    "* **y ~ (w `*` x `*` z) - (w : x : z)**"
   ]
  },
  {
   "cell_type": "markdown",
   "metadata": {},
   "source": [
    "## Doing Predictions\n",
    "* The `predict()` function can make predictions about the value of target variable, `y`, for new data\n",
    "* Use `se.fit=TRUE` to get standard errors"
   ]
  },
  {
   "cell_type": "code",
   "execution_count": null,
   "metadata": {},
   "outputs": [],
   "source": [
    "new_data <- data.frame(x=c(40, 50, 60, 120))\n",
    "\n",
    "predict(model, new_data, se.fit=TRUE)"
   ]
  },
  {
   "cell_type": "markdown",
   "metadata": {},
   "source": [
    "## Exercise 01\n",
    "* In the `airquality` data, compute a linear model with `Ozone` as the dependant variable, and `Temp` and `Wind` as the predictor variables\n",
    "  * Include interactions between `Temp` and `Wind` in your model\n",
    "* Predict the `Ozone` level on a day when `Temp=80` degrees F and `Wind=15` mph\n",
    "  * Hint: do not use dollar signs in your model formula\n",
    "    * `lm(Ozone ~ ..., airquality)`\n",
    "    * **NOT**: `lm(airquality$Ozone ~ ...)`"
   ]
  },
  {
   "cell_type": "code",
   "execution_count": null,
   "metadata": {},
   "outputs": [],
   "source": [
    "\n",
    "new_data <- data.frame(Temp=80, Wind=15)\n"
   ]
  }
 ],
 "metadata": {
  "kernelspec": {
   "display_name": "R 3.2.4",
   "language": "R",
   "name": "r_3.2.4"
  },
  "language_info": {
   "codemirror_mode": "r",
   "file_extension": ".r",
   "mimetype": "text/x-r-source",
   "name": "R",
   "pygments_lexer": "r",
   "version": "3.2.4"
  }
 },
 "nbformat": 4,
 "nbformat_minor": 1
}
