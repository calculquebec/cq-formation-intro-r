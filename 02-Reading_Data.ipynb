{
 "cells": [
  {
   "cell_type": "markdown",
   "metadata": {},
   "source": [
    "# Lesson 02 - Reading Data\n",
    "## Presentation of flight data\n",
    "\n",
    "For these lessons, we will be using flight data [Airline On-Time Statistics](http://stat-computing.org/dataexpo/2009/the-data.html)\n",
    "\n",
    "We are studying data on flights within the USA, restricting ourselves to all flights departing from Chicago O'Hare airport (ORD) in 2007. The dataset is stored as a `csv` file: each row holds information for a\n",
    "single flight, and the columns represent:\n",
    "\n",
    "| Column           | Description                        |\n",
    "|------------------|------------------------------------|\n",
    "|**Year**          | year of flight                     |\n",
    "|**Month**         | month of flight                    |\n",
    "|DayofMonth        | day of flight                      |\n",
    "|**DayOfWeek**     | week day of flight                 |\n",
    "|DepTime           | actual departure time (local hhmm) |\n",
    "|**CRSDepTime**    | scheduled departure time           |\n",
    "|ArrTime           | actual arrival time (local hhmm)   |\n",
    "|CRSArrTime        | scheduled arrival time             |\n",
    "|UniqueCarrier     | airline code                       |\n",
    "|FlightNum         | flight number                      |\n",
    "|TailNum           | plane tail number                  |\n",
    "|ActualElapsedTime | elapsed time (minutes)             |\n",
    "|CRSElapsedTime    | scheduled elapsed time (minutes)   |\n",
    "|AirTime           | time in air (minutes)              |\n",
    "|ArrDelay          | arrival delay (minutes)            |\n",
    "|**DepDelay**      | departure delay (minutes)          |\n",
    "|Origin            | origin airport                     |\n",
    "|**Dest**          | destination airport                |\n",
    "|Distance          | distance (miles)                   |\n",
    "|TaxiIn            | taxi in time (minutes)             |\n",
    "|TaxiOut           | taxi out time (minutes)            |\n",
    "|Cancelled         | cancelled (yes/no)                 |\n",
    "|CancellationCode  | reason (A = carrier, B = weather, C = NAS, D = security)|\n",
    "|Diverted          | diverted (1=yes/0=no)              |\n",
    "|CarrierDelay      | delay caused by airline (minutes)  |\n",
    "|WeatherDelay      | delay caused by weather            |\n",
    "|NASDelay          | delay caused by NAS                |\n",
    "|SecurityDelay     | delay caused by security           |\n",
    "|LateAircraftDelay | delay caused by late aircraft      |"
   ]
  },
  {
   "cell_type": "markdown",
   "metadata": {},
   "source": [
    "## How to load data from a CSV file\n",
    "* Use `read.csv()` function; it will return a data frame\n",
    "  * Use the `str()` function to get information about each column\n",
    "  * Use the `summary()` function to get statistics for each column"
   ]
  },
  {
   "cell_type": "code",
   "execution_count": null,
   "metadata": {},
   "outputs": [],
   "source": [
    "delays07 <- read.csv('data/2007_ORD.csv')\n",
    "head(delays07)"
   ]
  },
  {
   "cell_type": "code",
   "execution_count": null,
   "metadata": {},
   "outputs": [],
   "source": [
    "str(delays07)"
   ]
  },
  {
   "cell_type": "markdown",
   "metadata": {},
   "source": [
    "## Factors\n",
    "* Non-numeric data: all values belong to a limited set of \"levels\"\n",
    "  * Get levels with `levels()`\n",
    "  * Get number of levels with `nlevels()`\n",
    "  * Example: from the [Data Carpentry workshop](http://www.datacarpentry.org/R-ecology-lesson/02-starting-with-data.html#factors)"
   ]
  },
  {
   "cell_type": "code",
   "execution_count": null,
   "metadata": {},
   "outputs": [],
   "source": [
    "food <- factor(c(\"low\", \"high\", \"medium\", \"high\", \"low\", \"medium\", \"high\"))\n",
    "\n",
    "sprintf(\"There are %d levels: %s\", nlevels(food), paste(levels(food), collapse=\", \"))"
   ]
  },
  {
   "cell_type": "markdown",
   "metadata": {},
   "source": [
    "* Note: the `summary()` function will compute quantiles for numeric data, but frequencies for factors\n",
    "  * Use the `as.factor()` method to convert numeric values to a factor\n",
    "  * Example: in the `airquality` data, `Month` values should not be numeric data"
   ]
  },
  {
   "cell_type": "code",
   "execution_count": null,
   "metadata": {},
   "outputs": [],
   "source": [
    "library(datasets)\n",
    "summary(airquality$Month)"
   ]
  },
  {
   "cell_type": "code",
   "execution_count": null,
   "metadata": {},
   "outputs": [],
   "source": [
    "airquality$Month <- as.factor(airquality$Month)\n",
    "\n",
    "sprintf(\"There are %d levels: %s\", nlevels(airquality$Month), paste(levels(airquality$Month), collapse=\" \"))\n",
    "summary(airquality$Month)"
   ]
  },
  {
   "cell_type": "markdown",
   "metadata": {},
   "source": [
    "## Exercise 1 - Most Problematic Destinations\n",
    "* Select the Dest column from delays07\n",
    "* Use the `head()` function to retrieve the top-10 destinations\n",
    "  * Hint: the `summary()` function will sort levels in descending order of level frequency"
   ]
  },
  {
   "cell_type": "code",
   "execution_count": null,
   "metadata": {},
   "outputs": [],
   "source": []
  },
  {
   "cell_type": "markdown",
   "metadata": {},
   "source": [
    "## Tables and Bar-plot\n",
    "* The function `table()` can sum occurences in a factor and create a table\n",
    "* The function `as.table()` can convert a data frame or a summary to a table\n",
    "* The function `barplot()` can display the corresponding data"
   ]
  },
  {
   "cell_type": "code",
   "execution_count": null,
   "metadata": {},
   "outputs": [],
   "source": [
    "table(airquality$Month)\n",
    "barplot(as.table(summary(airquality$Month)), main=\"Days in months\")"
   ]
  },
  {
   "cell_type": "markdown",
   "metadata": {},
   "source": [
    "## Exercise 2 - Most Problematic Destinations\n",
    "* From Dest in delays07, show the top-10 most problematic destinations in a bar-plot\n",
    "  * Hint: convert the `head` of the `summary` to a `table`"
   ]
  },
  {
   "cell_type": "code",
   "execution_count": null,
   "metadata": {},
   "outputs": [],
   "source": []
  }
 ],
 "metadata": {
  "kernelspec": {
   "display_name": "R 3.2.4",
   "language": "R",
   "name": "r_3.2.4"
  },
  "language_info": {
   "codemirror_mode": "r",
   "file_extension": ".r",
   "mimetype": "text/x-r-source",
   "name": "R",
   "pygments_lexer": "r",
   "version": "3.2.4"
  }
 },
 "nbformat": 4,
 "nbformat_minor": 1
}
