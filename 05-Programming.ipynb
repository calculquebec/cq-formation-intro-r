{
 "cells": [
  {
   "cell_type": "markdown",
   "metadata": {},
   "source": [
    "# Lesson 05 - Programming and Parallel Programming in R\n",
    "The basic programming features in R are:\n",
    "* Structures of decisions\n",
    "* Loops\n",
    "* Functions and anonymous functions\n",
    "\n",
    "Other features:\n",
    "* Vectorization\n",
    "* Parallel programming\n",
    "* Developing and Running\n",
    "* Debugging"
   ]
  },
  {
   "cell_type": "markdown",
   "metadata": {},
   "source": [
    "## Structures of Decisions"
   ]
  },
  {
   "cell_type": "markdown",
   "metadata": {},
   "source": [
    "### What `if`..., and what `else`?"
   ]
  },
  {
   "cell_type": "code",
   "execution_count": null,
   "metadata": {},
   "outputs": [],
   "source": [
    "if (!FALSE) print(\"* Be very careful when not using curly brackets!\")\n",
    "\n",
    "if (1 < 2) {\n",
    "    print(\"Yes, 1 is less than 2\")\n",
    "}"
   ]
  },
  {
   "cell_type": "code",
   "execution_count": null,
   "metadata": {},
   "outputs": [],
   "source": [
    "n <- 0\n",
    "\n",
    "if (n < 0) {\n",
    "    print(\"Negative\")\n",
    "} else if (n == 0) {\n",
    "    print(\"Zero\")\n",
    "} else {\n",
    "    print(\"Positive\")\n",
    "}"
   ]
  },
  {
   "cell_type": "markdown",
   "metadata": {},
   "source": [
    "### In case you have more cases\n",
    "You may switch to `switch(n, result1, ..., resultN)` or `switch(str, name1=result1, ..., default_result)`\n",
    "* One value is tested\n",
    "* May return an object or a sequence of actions\n",
    "* May have a default behaviour"
   ]
  },
  {
   "cell_type": "code",
   "execution_count": null,
   "metadata": {},
   "outputs": [],
   "source": [
    "n <- 1 + 1\n",
    "switch(n, {print(\"Case One\")}, {print(\"Case Two\")}, {print(\"Case Three\")})"
   ]
  },
  {
   "cell_type": "code",
   "execution_count": null,
   "metadata": {},
   "outputs": [],
   "source": [
    "x <- 9\n",
    "action <- \"walk\"\n",
    "\n",
    "x <- x + switch(action, walk=1, run=3, 0)\n",
    "x"
   ]
  },
  {
   "cell_type": "code",
   "execution_count": null,
   "metadata": {},
   "outputs": [],
   "source": [
    "action <- \"run\"\n",
    "switch(action, walk={x <- x + 1}, run={x <- x + 3}, {print(\"error\")})\n",
    "x\n",
    "\n",
    "action <- \"jump\"\n",
    "switch(action,\n",
    "       walk={x <- x + 1},\n",
    "       run={x <- x + 3},\n",
    "       {x <- NA ; print(\"Undefined action, please run or walk\")})\n",
    "x"
   ]
  },
  {
   "cell_type": "markdown",
   "metadata": {},
   "source": [
    "### Ternary Operator on Assignment\n",
    "* For scalar values: `var <- if(expr) val1 else val2`\n",
    "* For each element in a vector: `var <- ifelse(expr, val1, val2)`"
   ]
  },
  {
   "cell_type": "code",
   "execution_count": null,
   "metadata": {},
   "outputs": [],
   "source": [
    "x <- -12345678\n",
    "sign <- if(x < 0) -1 else (if(x > 0) 1 else 0)\n",
    "sign"
   ]
  },
  {
   "cell_type": "code",
   "execution_count": null,
   "metadata": {},
   "outputs": [],
   "source": [
    "v1 <- c(1, 1, 2, 3, 5, 8, 13, 21, 34, 55)\n",
    "v2 <- ifelse(v1 %% 2 == 1, 7, 4)\n",
    "v2"
   ]
  },
  {
   "cell_type": "markdown",
   "metadata": {},
   "source": [
    "## Loops\n",
    "* Use `for()` to loop over elements of collections (lists, vectors, ...)\n",
    "* Use `while()` to loop until a condition is satisfied"
   ]
  },
  {
   "cell_type": "code",
   "execution_count": null,
   "metadata": {},
   "outputs": [],
   "source": [
    "words <- c(\"List\", \"of\", \"small\", \"words\")\n",
    "\n",
    "for (word in words) {\n",
    "    print(word)\n",
    "}"
   ]
  },
  {
   "cell_type": "code",
   "execution_count": null,
   "metadata": {},
   "outputs": [],
   "source": [
    "for (i in 1:3) {\n",
    "    print(i)\n",
    "}"
   ]
  },
  {
   "cell_type": "code",
   "execution_count": null,
   "metadata": {
    "scrolled": true
   },
   "outputs": [],
   "source": [
    "count <- 10\n",
    "while (count >= 0) {\n",
    "    print(count)\n",
    "    count <- count - 1\n",
    "}"
   ]
  },
  {
   "cell_type": "markdown",
   "metadata": {},
   "source": [
    "### Not Using Loops in R\n",
    "* Loops in R tend to be slow\n",
    "* It is preferred to avoid them when possible\n",
    "* Use vectorized operations (like `ifelse()`) as much as possible\n",
    "* We will see more about that later"
   ]
  },
  {
   "cell_type": "markdown",
   "metadata": {},
   "source": [
    "## Functions and Anonymous Functions\n",
    "* In R, functions are objects that get assigned variable names"
   ]
  },
  {
   "cell_type": "code",
   "execution_count": null,
   "metadata": {},
   "outputs": [],
   "source": [
    "dotProd <- function(vect) {\n",
    "    sum(vect * vect)\n",
    "}\n",
    "\n",
    "dotProd(1:5)"
   ]
  },
  {
   "cell_type": "markdown",
   "metadata": {},
   "source": [
    "* As seen previously with built-in R functions, you may specify default values for optional arguments in functions:"
   ]
  },
  {
   "cell_type": "code",
   "execution_count": null,
   "metadata": {},
   "outputs": [],
   "source": [
    "dotProd <- function(vect, debugLevel=0) {\n",
    "    if (debugLevel >= 1) {print(\"dotProd: multiplying...\")}\n",
    "    prod <- vect * vect\n",
    "    if (debugLevel >= 2) {print(prod)}\n",
    "    \n",
    "    if (debugLevel >= 1) {print(\"dotProd: final sum...\")}\n",
    "    sum(prod)\n",
    "}\n",
    "\n",
    "dotProd(1:5)\n",
    "dotProd(debugLevel=2, 6:10)"
   ]
  },
  {
   "cell_type": "markdown",
   "metadata": {},
   "source": [
    "### Anonymous Functions\n",
    "* You can use a function without giving it a name\n",
    "* Useful if a small function is only needed on one line\n",
    "* This is most frequently used with the `*apply()` set of functions. We will see more about that later"
   ]
  },
  {
   "cell_type": "code",
   "execution_count": null,
   "metadata": {},
   "outputs": [],
   "source": [
    "p <- (function(x, y) list(a=x**2-y**2, b=2*x*y, h=x**2+y**2)) (3, 1)\n",
    "p\n",
    "\n",
    "(p$a^2 + p$b^2 == p$h^2)    # Testing: A^2 + B^2 == H^2"
   ]
  },
  {
   "cell_type": "markdown",
   "metadata": {},
   "source": [
    "### Lexical Scoping in R\n",
    "* Go to: https://b.socrative.com/login/student/\n",
    "* Type room name: PIERLUCSTONGE\n",
    "\n",
    "What is the output of this R code? (Select your answer in Socrative)\n",
    "```{R}\n",
    "z <- 17\n",
    "foo <- function(x) {\n",
    "    bar <- function(y) {\n",
    "        y + z\n",
    "    }\n",
    "    \n",
    "    z <- 5\n",
    "    x + bar(x)\n",
    "}\n",
    "\n",
    "z <- 10\n",
    "foo(2)\n",
    "```"
   ]
  },
  {
   "cell_type": "code",
   "execution_count": null,
   "metadata": {},
   "outputs": [],
   "source": []
  },
  {
   "cell_type": "markdown",
   "metadata": {},
   "source": [
    "* **Free variable**: not defined in the function nor as an argument\n",
    "* **Lexical scoping** (used in R): the value of free variables is determined when the function is called\n",
    "* **Dynamic scoping**: see https://en.wikipedia.org/wiki/Scope_%28computer_science%29"
   ]
  },
  {
   "cell_type": "markdown",
   "metadata": {},
   "source": [
    "What is the output of this R code? (Select your answer in Socrative)\n",
    "```{R}\n",
    "foo <- function(x, y=x) {\n",
    "    x+y\n",
    "}\n",
    "\n",
    "x <- 100\n",
    "c(foo(2, x), foo(2))\n",
    "```"
   ]
  },
  {
   "cell_type": "code",
   "execution_count": null,
   "metadata": {},
   "outputs": [],
   "source": []
  },
  {
   "cell_type": "markdown",
   "metadata": {},
   "source": [
    "### Vectorization\n",
    "* `Reduce()` function iterates a function over a list or vector\n",
    "* R provides functions for applying a function repeatedly to sets of data:\n",
    "  * `apply()` - apply function to sections of array, return array\n",
    "  * `sapply()` - apply function to elements of a list, returns a vector, matrix or list\n",
    "  * `lapply()` - apply function to elements of a list, returns a list\n",
    "* Use '`?apply`' or '`?Reduce`' for more details"
   ]
  },
  {
   "cell_type": "code",
   "execution_count": null,
   "metadata": {
    "scrolled": true
   },
   "outputs": [],
   "source": [
    "lapply(c(2,4,6), function(x) x**2)"
   ]
  },
  {
   "cell_type": "markdown",
   "metadata": {},
   "source": [
    "## Exercise 01\n",
    "Edit code below in order to reimplement `ifelse(v1 %% 2 == 1, 7, 4)` with `sapply()`"
   ]
  },
  {
   "cell_type": "code",
   "execution_count": null,
   "metadata": {},
   "outputs": [],
   "source": [
    "v1 <- c(1, 1, 2, 3, 5, 8, 13, 21, 34, 55)\n",
    "\n",
    "v3 # <- sapply(...)\n",
    "v3"
   ]
  },
  {
   "cell_type": "markdown",
   "metadata": {},
   "source": [
    "## Parallel Programming in R\n",
    "Built-in package `parallel`\n",
    "* Included in versions >= 2.14.0\n",
    "* Builds on and merges `snow` (simple network of workstations) and `multicore` packages"
   ]
  },
  {
   "cell_type": "code",
   "execution_count": null,
   "metadata": {},
   "outputs": [],
   "source": [
    "library(parallel)\n",
    "\n",
    "# Report the number of available cores\n",
    "detectCores()"
   ]
  },
  {
   "cell_type": "code",
   "execution_count": null,
   "metadata": {},
   "outputs": [],
   "source": [
    "# Create a cluster with 2 cores\n",
    "cl <- makeCluster(2)\n",
    "cl"
   ]
  },
  {
   "cell_type": "markdown",
   "metadata": {},
   "source": [
    "* The most common way to parallelize R code is to replace expensive `lapply()` operations with the parallel `parLapply()` from the `parallel` package:"
   ]
  },
  {
   "cell_type": "code",
   "execution_count": null,
   "metadata": {},
   "outputs": [],
   "source": [
    "myList <- seq(4e6)\n",
    "\n",
    "system.time(myList2 <-    lapply(    myList, function(x) log(x)))\n",
    "\n",
    "system.time(myList2 <- parLapply(cl, myList, function(x) log(x)))"
   ]
  },
  {
   "cell_type": "markdown",
   "metadata": {},
   "source": [
    "## Exercise 02\n",
    "* The following serial code spends most of the time on an `lapply()` operation\n",
    "* Parallelize this code using the `parallel` package in R"
   ]
  },
  {
   "cell_type": "code",
   "execution_count": null,
   "metadata": {},
   "outputs": [],
   "source": [
    "#Choose a seed for reproducible random numbers\n",
    "set.seed(1)\n",
    "\n",
    "#Size of random matrix \n",
    "size <- 512\n",
    "\n",
    "#Generate random numbers and shape them \n",
    "#into a square matrix\n",
    "x <- runif(size*size)\n",
    "x <- matrix(x, nrow=size, ncol=size)\n",
    "\n",
    "#Compute the coefficients of variation of each row \n",
    "print(\"Serial time:\")\n",
    "print(system.time(y <- lapply(x, function(x) sd(x)/mean(x))))"
   ]
  },
  {
   "cell_type": "markdown",
   "metadata": {},
   "source": [
    "## Developing and Running\n",
    "In the real world (outside of Jupyter):\n",
    "* For small tests: use an interactive `R` session in a terminal\n",
    "  * `R`\n",
    "* For developping scripts: use RStudio\n",
    "  * https://www.rstudio.com/products/rstudio/\n",
    "* For running complex pipelines on a Unix system: use the `Rscript` command\n",
    "  * `Rscript script.R`"
   ]
  },
  {
   "cell_type": "markdown",
   "metadata": {
    "collapsed": true
   },
   "source": [
    "## Debugging in R\n",
    "* **Good practices**:\n",
    "  * Validate all your function inputs\n",
    "    * Write understandable error messages\n",
    "  * Create unit-tests that will trigger these errors\n",
    "\n",
    "\n",
    "* Interactive debugging only works in an R session within a Unix shell (like Bash)\n",
    "  * `traceback()` - Prints the sequence of function calls\n",
    "* For IPython notebooks:\n",
    "  * Use `on.exit(traceback(2))` before aborting with `stop()`"
   ]
  },
  {
   "cell_type": "code",
   "execution_count": null,
   "metadata": {},
   "outputs": [],
   "source": [
    "factorial <- function(n) {\n",
    "    if (n < 0) {\n",
    "        on.exit(traceback(2))\n",
    "        stop(\"factorial(): does not support n < 0\")\n",
    "    } else if (n == 0) {\n",
    "        1\n",
    "    } else {\n",
    "        n * factorial(n - 1)\n",
    "    }\n",
    "}"
   ]
  },
  {
   "cell_type": "code",
   "execution_count": null,
   "metadata": {},
   "outputs": [],
   "source": [
    "factorial(-1)"
   ]
  },
  {
   "cell_type": "markdown",
   "metadata": {},
   "source": [
    "* In an interactive R session in a terminal, use `debug(functionName)` in order to flag a function for debugging\n",
    "  * When `functionName` runs, you will be taken to a code \"browser\"\n",
    "  * There are four basic debug commands\n",
    "    * n[ext] - Execute current line and print the next\n",
    "    * c[ontinue] - Execute the rest of the function without stopping\n",
    "    * q[uit] - Exit the \"browser\"\n",
    "    * where - Show the call stack\n",
    "* On IPython notebooks, we simply get the full debugging log (automatic `next` commands until the function returns)"
   ]
  },
  {
   "cell_type": "code",
   "execution_count": null,
   "metadata": {},
   "outputs": [],
   "source": [
    "debug(factorial)\n",
    "\n",
    "factorial(-2)"
   ]
  },
  {
   "cell_type": "code",
   "execution_count": null,
   "metadata": {},
   "outputs": [],
   "source": []
  }
 ],
 "metadata": {
  "kernelspec": {
   "display_name": "R 3.2.4",
   "language": "R",
   "name": "r_3.2.4"
  },
  "language_info": {
   "codemirror_mode": "r",
   "file_extension": ".r",
   "mimetype": "text/x-r-source",
   "name": "R",
   "pygments_lexer": "r",
   "version": "3.2.4"
  }
 },
 "nbformat": 4,
 "nbformat_minor": 1
}
