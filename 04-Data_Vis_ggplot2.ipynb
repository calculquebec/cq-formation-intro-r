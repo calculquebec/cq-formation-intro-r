{
 "cells": [
  {
   "cell_type": "markdown",
   "metadata": {},
   "source": [
    "# Lesson 04 - Data Visualization with `ggplot2`\n",
    "* [xkcd: Decline](https://xkcd.com/523/)\n",
    "![alt text](http://imgs.xkcd.com/comics/decline.png \"There's also a spike on the Fourier transform at the one-month mark where --' 'You want to stop talking right now.'\")"
   ]
  },
  {
   "cell_type": "markdown",
   "metadata": {
    "collapsed": true
   },
   "source": [
    "## Load Data and Packages"
   ]
  },
  {
   "cell_type": "code",
   "execution_count": null,
   "metadata": {},
   "outputs": [],
   "source": [
    "library(datasets)\n",
    "delays07 <- read.csv('data/2007_ORD.csv')"
   ]
  },
  {
   "cell_type": "markdown",
   "metadata": {},
   "source": [
    "Like `dplyr`, `ggplot2` is a library that must be loaded:"
   ]
  },
  {
   "cell_type": "code",
   "execution_count": null,
   "metadata": {},
   "outputs": [],
   "source": [
    "library(\"ggplot2\")\n",
    "library(\"dplyr\")"
   ]
  },
  {
   "cell_type": "markdown",
   "metadata": {},
   "source": [
    "## Simple Scatter Plot"
   ]
  },
  {
   "cell_type": "code",
   "execution_count": null,
   "metadata": {},
   "outputs": [],
   "source": [
    "plot(x = airquality$Temp, y = airquality$Ozone, main=\"Ozone(Temp)\")"
   ]
  },
  {
   "cell_type": "markdown",
   "metadata": {},
   "source": [
    "## Simple Plot with `ggplot2`\n",
    "* We first need to clean data before using `ggplot()`"
   ]
  },
  {
   "cell_type": "code",
   "execution_count": null,
   "metadata": {},
   "outputs": [],
   "source": [
    "tempOzone <- airquality %>% select(Temp, Ozone) %>% filter(!is.na(Ozone))\n",
    "head(tempOzone)"
   ]
  },
  {
   "cell_type": "markdown",
   "metadata": {},
   "source": [
    "* The `ggplot()` command creates an empty plot from a data frame\n",
    "  * Need to add axis labels with: `aes(x = X_data, y = Y_data)`\n",
    "  * Need to explicitly specify the way the data will be displayed by adding a `geom_*()` object\n",
    "    * For example: `geom_point()`\n",
    "    * More options: http://docs.ggplot2.org/current/\n",
    "  * Neet to add a title with `ggtitle()`"
   ]
  },
  {
   "cell_type": "code",
   "execution_count": null,
   "metadata": {},
   "outputs": [],
   "source": [
    "ggplot(tempOzone)\n",
    "ggplot(tempOzone) + aes(x = Temp, y = Ozone)"
   ]
  },
  {
   "cell_type": "code",
   "execution_count": null,
   "metadata": {},
   "outputs": [],
   "source": [
    "ggplot(tempOzone) + aes(x = Temp, y = Ozone) + geom_point(alpha = 0.5, color = \"red\") + ggtitle(\"Ozone(Temp)\")"
   ]
  },
  {
   "cell_type": "markdown",
   "metadata": {},
   "source": [
    "## Boxplot\n",
    "* Example with `geom_boxplot()`\n",
    "  * Need to convert Month as a factor"
   ]
  },
  {
   "cell_type": "code",
   "execution_count": null,
   "metadata": {},
   "outputs": [],
   "source": [
    "monthTemp <- airquality %>% select(Month, Temp)\n",
    "monthTemp$Month <- as.factor(monthTemp$Month)\n",
    "summary(monthTemp$Month)"
   ]
  },
  {
   "cell_type": "code",
   "execution_count": null,
   "metadata": {},
   "outputs": [],
   "source": [
    "ggplot(monthTemp) + aes(x = Month, y = Temp) + geom_boxplot()"
   ]
  },
  {
   "cell_type": "code",
   "execution_count": null,
   "metadata": {},
   "outputs": [],
   "source": [
    "ggplot(monthTemp) + aes(x = Month, y = Temp) + geom_boxplot(alpha = 0) + geom_point(alpha = 0.3, color = \"red\")"
   ]
  },
  {
   "cell_type": "markdown",
   "metadata": {
    "collapsed": true
   },
   "source": [
    "## Multi-line Plots\n",
    "* In `aes()`, specify to `group` entries by one column, typically a factor: `group = colName`\n",
    "  * Still in `aes()`, it is possible to colorize each group name\n",
    "    * Factors will get random colors\n",
    "    * Numeric values will get a gradient of color\n",
    "* Use `geom_line()` to display data as lines"
   ]
  },
  {
   "cell_type": "code",
   "execution_count": null,
   "metadata": {},
   "outputs": [],
   "source": [
    "monthTempOzone <- airquality %>% select(Month, Temp, Ozone) %>% filter(!is.na(Ozone))\n",
    "monthTempOzone$Month <- as.factor(monthTempOzone$Month)\n",
    "\n",
    "ggplot(monthTempOzone) + aes(x = Temp, y = Ozone, group = Month, colour = Month) + geom_line()"
   ]
  },
  {
   "cell_type": "markdown",
   "metadata": {},
   "source": [
    "## Exercise 1 - Plots of Delays vs (DayOfWeek, PeriodOfDay)\n",
    "* From Lesson 03 - Exercise 3\n",
    "  * Convert DayOfWeek and PeriodOfDay to factors\n",
    "  * Create a plot where x is DayOfWeek, y is mDelay, and we see one line per PeriodOfDay\n",
    "  * Create a plot where x is PeriodOfDay, y is mDelay, and we see one line per DayOfWeek"
   ]
  },
  {
   "cell_type": "code",
   "execution_count": null,
   "metadata": {},
   "outputs": [],
   "source": [
    " dayTimeDelay <-      delays07 %>% select(DayOfWeek, CRSDepTime, DepDelay) %>% filter(!is.na(DepDelay))\n",
    "  withPeriods <-  dayTimeDelay %>% mutate(PeriodOfDay = CRSDepTime %/% 600)\n",
    "byPeriodOfDay <-   withPeriods %>% group_by(DayOfWeek, PeriodOfDay)\n",
    "         summ <- byPeriodOfDay %>% summarize(mDelay = mean(DepDelay, na.rm=TRUE))"
   ]
  },
  {
   "cell_type": "code",
   "execution_count": null,
   "metadata": {},
   "outputs": [],
   "source": []
  },
  {
   "cell_type": "code",
   "execution_count": null,
   "metadata": {},
   "outputs": [],
   "source": []
  },
  {
   "cell_type": "code",
   "execution_count": null,
   "metadata": {},
   "outputs": [],
   "source": []
  },
  {
   "cell_type": "markdown",
   "metadata": {},
   "source": [
    "## Exercise 2 - Data from 2007 and 2008\n",
    "* Compute average `DepDelay` per `Month` for 2007 and 2008\n",
    "* Plot both years where x is the `Month`, y is the average `DepDelay`, and group entries by `Year`\n",
    "* Use `rbind()` to concatenate rows together"
   ]
  },
  {
   "cell_type": "code",
   "execution_count": null,
   "metadata": {},
   "outputs": [],
   "source": [
    "delays08 <- read.csv('data/2008_ORD.csv')"
   ]
  },
  {
   "cell_type": "code",
   "execution_count": null,
   "metadata": {},
   "outputs": [],
   "source": []
  }
 ],
 "metadata": {
  "kernelspec": {
   "display_name": "R 3.2.4",
   "language": "R",
   "name": "r_3.2.4"
  },
  "language_info": {
   "codemirror_mode": "r",
   "file_extension": ".r",
   "mimetype": "text/x-r-source",
   "name": "R",
   "pygments_lexer": "r",
   "version": "3.2.4"
  }
 },
 "nbformat": 4,
 "nbformat_minor": 1
}
